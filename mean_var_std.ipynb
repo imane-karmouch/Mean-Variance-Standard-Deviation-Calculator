{
 "cells": [
  {
   "cell_type": "code",
   "execution_count": 67,
   "id": "c7c51cd4",
   "metadata": {},
   "outputs": [
    {
     "name": "stdout",
     "output_type": "stream",
     "text": [
      "[[0 1 2]\n",
      " [3 4 5]\n",
      " [6 7 8]]\n"
     ]
    },
    {
     "data": {
      "text/plain": [
       "{'mean': [array([3., 4., 5.]), array([1., 4., 7.]), 4.0],\n",
       " 'variance': [array([6., 6., 6.]),\n",
       "  array([0.66666667, 0.66666667, 0.66666667]),\n",
       "  6.666666666666667],\n",
       " 'standard deviation': [array([2.44948974, 2.44948974, 2.44948974]),\n",
       "  array([0.81649658, 0.81649658, 0.81649658]),\n",
       "  2.581988897471611],\n",
       " 'max': [array([6, 7, 8]), array([2, 5, 8]), 8],\n",
       " 'min': [array([0, 1, 2]), array([0, 3, 6]), 0],\n",
       " 'sum': [array([ 9, 12, 15]), array([ 3, 12, 21]), 36]}"
      ]
     },
     "execution_count": 67,
     "metadata": {},
     "output_type": "execute_result"
    }
   ],
   "source": [
    "import numpy as np \n",
    "\n",
    "def calculate (L):\n",
    "    n=len(L)\n",
    "    if (n!=9):\n",
    "        print (\"List must contain nine numbers.\")\n",
    "    else:\n",
    "        mat = np.array(L)\n",
    "        X=(mat.reshape(3,3))\n",
    "        print (X)\n",
    "        x=(X[0:1])\n",
    "        y=(X[1:2])\n",
    "        z=(X[2:3])\n",
    "        d = np.vstack([x,y,z])\n",
    "        return {\n",
    "            'mean': [np.mean(X, axis = 0),np.mean(X, axis = 1), np.mean(X)],\n",
    "            'variance': [np.var(X, axis =0), np.var(X , axis=1), np.var(X)],\n",
    "            'standard deviation': [np.std(X, axis = 0), np.std(X, axis = 1), np.std(X)],\n",
    "            'max': [np.max(X, axis = 0), np.max(X, axis = 1), np.max(X)],\n",
    "            'min': [np.min(X, axis = 0), np.min(X, axis = 1), np.min(X)],\n",
    "            'sum': [np.sum(X, axis = 0), np.sum(X, axis = 1), np.sum(X)]\n",
    "        }\n",
    "        \n",
    "\n",
    "calculate ([0,1,2,3,4,5,6,7,8])\n",
    "    "
   ]
  }
 ],
 "metadata": {
  "kernelspec": {
   "display_name": "Python 3 (ipykernel)",
   "language": "python",
   "name": "python3"
  },
  "language_info": {
   "codemirror_mode": {
    "name": "ipython",
    "version": 3
   },
   "file_extension": ".py",
   "mimetype": "text/x-python",
   "name": "python",
   "nbconvert_exporter": "python",
   "pygments_lexer": "ipython3",
   "version": "3.8.10"
  }
 },
 "nbformat": 4,
 "nbformat_minor": 5
}
